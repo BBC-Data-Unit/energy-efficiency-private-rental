{
 "cells": [
  {
   "cell_type": "markdown",
   "id": "6ea57b03",
   "metadata": {},
   "source": [
    "# Extracting from a zip file of EPC data\n",
    "\n",
    "We've downloaded the full dataset from [The Energy Performance Certificates dataset](https://epc.opendatacommunities.org/domestic/search). This is a 5GB zip file, but there isn't enough capacity on the laptop to unzip it - so we need some Python."
   ]
  },
  {
   "cell_type": "markdown",
   "id": "30faddbe",
   "metadata": {},
   "source": [
    "## Import the libraries\n",
    "\n",
    "We need the `zipfile` library to work with the zip file. "
   ]
  },
  {
   "cell_type": "code",
   "execution_count": 1,
   "id": "7cb8adc4",
   "metadata": {},
   "outputs": [],
   "source": [
    "#import a library for dealing with zip files\n",
    "import zipfile"
   ]
  },
  {
   "cell_type": "markdown",
   "id": "ad17ce85",
   "metadata": {},
   "source": [
    "## Unzip and analyse the files\n",
    "\n",
    "We can use the `.namelist()` method to look at the names of the files in the zip."
   ]
  },
  {
   "cell_type": "code",
   "execution_count": 2,
   "id": "eeb79487",
   "metadata": {},
   "outputs": [
    {
     "name": "stdout",
     "output_type": "stream",
     "text": [
      "1030\n",
      "['LICENCE.txt', 'domestic-E07000044-South-Hams/', 'domestic-E07000044-South-Hams/recommendations.csv', 'domestic-E07000044-South-Hams/certificates.csv', 'domestic-E07000078-Cheltenham/', 'domestic-E07000078-Cheltenham/recommendations.csv', 'domestic-E07000078-Cheltenham/certificates.csv']\n"
     ]
    }
   ],
   "source": [
    "#code adapted from https://realpython.com/python-zipfile/\n",
    "with zipfile.ZipFile(\"all-domestic-certificates.zip\", mode=\"r\") as archive:\n",
    "    #extract the list of names\n",
    "    filelist = archive.namelist()\n",
    "    #how many items\n",
    "    print(len(filelist))\n",
    "    #show the first 7 items\n",
    "    print(filelist[:7])"
   ]
  },
  {
   "cell_type": "markdown",
   "id": "82944fb1",
   "metadata": {},
   "source": [
    "## Read some files\n",
    "\n",
    "We can use `.read()` to grab any items from that list."
   ]
  },
  {
   "cell_type": "code",
   "execution_count": 3,
   "id": "a7a40f3f",
   "metadata": {},
   "outputs": [
    {
     "name": "stdout",
     "output_type": "stream",
     "text": [
      "# Terms of Use\n",
      "\n",
      "## Copyright and Database Right Information\n",
      "\n",
      "The Department of Levelling Up, Housing\n"
     ]
    }
   ],
   "source": [
    "#code adapted from https://realpython.com/python-zipfile/\n",
    "with zipfile.ZipFile(\"all-domestic-certificates.zip\", mode=\"r\") as archive:\n",
    "    #extract the list of names\n",
    "    filelist = archive.namelist()\n",
    "    #open the first item and store in a variable called text\n",
    "    text = archive.read(filelist[0]).decode(encoding=\"utf-8\")\n",
    "\n",
    "#print the new variable, the first 100 chars\n",
    "print(text[:100])"
   ]
  },
  {
   "cell_type": "markdown",
   "id": "39c03bdc",
   "metadata": {},
   "source": [
    "## Extract into a folder\n",
    "\n",
    "We can use `.extract()` to extract a specified file into a specified location."
   ]
  },
  {
   "cell_type": "code",
   "execution_count": 4,
   "id": "c11c4c54",
   "metadata": {},
   "outputs": [],
   "source": [
    "#code adapted from https://realpython.com/python-zipfile/\n",
    "with zipfile.ZipFile(\"all-domestic-certificates.zip\", mode=\"r\") as archive:\n",
    "    #extract the list of names\n",
    "    filelist = archive.namelist()\n",
    "    #extract first item to a subdirectory\n",
    "    archive.extract(filelist[0], path=\"output_dir/\")\n"
   ]
  },
  {
   "cell_type": "markdown",
   "id": "4f4bb423",
   "metadata": {},
   "source": [
    "## Extract all to a folder\n",
    "\n",
    "The `.extractall()` method will extract all the files, so all it needs to know is the directory you want to extract to."
   ]
  },
  {
   "cell_type": "code",
   "execution_count": 5,
   "id": "eb2e64fc",
   "metadata": {},
   "outputs": [],
   "source": [
    "#code adapted from https://realpython.com/python-zipfile/\n",
    "with zipfile.ZipFile(\"all-domestic-certificates.zip\", mode=\"r\") as archive:\n",
    "    #extract all to a subdirectory\n",
    "    archive.extractall(path=\"output_dir/\")\n"
   ]
  },
  {
   "cell_type": "markdown",
   "id": "15d32e18",
   "metadata": {},
   "source": [
    "This appears to work, so we turn to command line to solve the problem of combining all these files into one."
   ]
  }
 ],
 "metadata": {
  "kernelspec": {
   "display_name": "Python 3 (ipykernel)",
   "language": "python",
   "name": "python3"
  },
  "language_info": {
   "codemirror_mode": {
    "name": "ipython",
    "version": 3
   },
   "file_extension": ".py",
   "mimetype": "text/x-python",
   "name": "python",
   "nbconvert_exporter": "python",
   "pygments_lexer": "ipython3",
   "version": "3.9.13"
  }
 },
 "nbformat": 4,
 "nbformat_minor": 5
}
